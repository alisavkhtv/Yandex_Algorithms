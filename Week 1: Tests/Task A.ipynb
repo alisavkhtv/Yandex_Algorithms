{
  "nbformat": 4,
  "nbformat_minor": 0,
  "metadata": {
    "colab": {
      "provenance": []
    },
    "kernelspec": {
      "name": "python3",
      "display_name": "Python 3"
    },
    "language_info": {
      "name": "python"
    }
  },
  "cells": [
    {
      "cell_type": "code",
      "execution_count": null,
      "metadata": {
        "id": "LOeYt53Kw7WN"
      },
      "outputs": [],
      "source": [
        "x1 = int(input())\n",
        "y1 = int(input())\n",
        "x2 = int(input())\n",
        "y2 = int(input())\n",
        "x = int(input())\n",
        "y = int(input())\n",
        "if x<x1:\n",
        "\tif y>y2:\n",
        "\t\tprint('NW')\n",
        "\telif y1<y<y2:\n",
        "\t\tprint('W')\n",
        "\telse:\n",
        "\t\tprint('SW')\n",
        "elif x1<x<x2:\n",
        "\tif y<y1:\n",
        "\t\tprint('S')\n",
        "\telse:\n",
        "\t\tprint('N')\n",
        "else:\n",
        "\tif y>y2:\n",
        "\t\tprint('NE')\n",
        "\telif y1<y<y2:\n",
        "\t\tprint('E')\n",
        "\telse:\n",
        "\t\tprint('SE')"
      ]
    }
  ]
}